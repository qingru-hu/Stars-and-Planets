{
 "cells": [
  {
   "cell_type": "code",
   "execution_count": 1,
   "metadata": {},
   "outputs": [],
   "source": [
    "import numpy as np"
   ]
  },
  {
   "cell_type": "code",
   "execution_count": 2,
   "metadata": {},
   "outputs": [],
   "source": [
    "# all the constants are in CGS units\n",
    "# physical constants\n",
    "sigma = 5.67051e-5 # Stefan-Boltzmann constant erg cm-2 K-4 s-1\n",
    "k = 1.380658e-16 # Boltzmann constant erg k-1\n",
    "m_u = 1.6605402e-24 # Atomic mass unit g\n",
    "G = 6.67259e-8 # Gravitational constant cm3 g-1 s-2\n",
    "h = 6.6260755e-27 # Planck constant erg s\n",
    "\n",
    "m_e = 9.1093897e-28 # Mass of electron g\n",
    "# distance\n",
    "au = 1.496e13\n",
    "\n",
    "# earth\n",
    "r_earth = 6.378e8 # cm\n",
    "m_earth = 5.974e27 # g\n",
    "\n",
    "# sun\n",
    "m_sun = 1.99e33\n",
    "L_sun = 3.9e33 # Solar luminosity erg s-1"
   ]
  },
  {
   "cell_type": "code",
   "execution_count": 5,
   "metadata": {},
   "outputs": [
    {
     "data": {
      "text/plain": [
       "76.64004559754427"
      ]
     },
     "execution_count": 5,
     "metadata": {},
     "output_type": "execute_result"
    }
   ],
   "source": [
    "mu = 2.29\n",
    "M = m_sun\n",
    "alpha = np.sqrt(k / (mu*m_u*G*M))\n",
    "r = au\n",
    "beta = 3\n",
    "T = (L_sun * beta**2 * alpha**2 / (8 * np.pi * sigma * r))**(1/3)\n",
    "T"
   ]
  },
  {
   "cell_type": "code",
   "execution_count": 6,
   "metadata": {},
   "outputs": [],
   "source": [
    "K = (3/np.pi)**(2/3) * (h**2 / (20*m_e)) * (1/(2*m_u))**(5/3)"
   ]
  },
  {
   "cell_type": "code",
   "execution_count": 9,
   "metadata": {},
   "outputs": [
    {
     "data": {
      "text/plain": [
       "1.3927705799374677"
      ]
     },
     "execution_count": 9,
     "metadata": {},
     "output_type": "execute_result"
    }
   ],
   "source": [
    "N = 0.424\n",
    "R = (K*m_sun**(-1/3))/(N*G) / r_earth\n",
    "R"
   ]
  },
  {
   "cell_type": "code",
   "execution_count": 12,
   "metadata": {},
   "outputs": [
    {
     "name": "stdout",
     "output_type": "stream",
     "text": [
      "4.060e+06\n"
     ]
    }
   ],
   "source": [
    "R = (K*m_sun**(-1/3))/(N*G)\n",
    "rho_c = 5.99 * m_sun / (4*np.pi*R**3 / 3)\n",
    "print('{:.3e}'.format(rho_c))"
   ]
  },
  {
   "cell_type": "code",
   "execution_count": 15,
   "metadata": {},
   "outputs": [
    {
     "name": "stdout",
     "output_type": "stream",
     "text": [
      "7.778e+10\n"
     ]
    }
   ],
   "source": [
    "v = h / m_e * (rho_c / (2*m_u))**(1/3)\n",
    "print('{:.3e}'.format(v))"
   ]
  },
  {
   "cell_type": "code",
   "execution_count": 5,
   "metadata": {},
   "outputs": [
    {
     "data": {
      "text/plain": [
       "0.6107740189607488"
      ]
     },
     "execution_count": 5,
     "metadata": {},
     "output_type": "execute_result"
    }
   ],
   "source": [
    "m_earth / (4 * np.pi * 3 * (r_earth)**3)"
   ]
  },
  {
   "cell_type": "code",
   "execution_count": 3,
   "metadata": {},
   "outputs": [
    {
     "data": {
      "text/plain": [
       "1.319468914507713"
      ]
     },
     "execution_count": 3,
     "metadata": {},
     "output_type": "execute_result"
    }
   ],
   "source": [
    "0.42 * np.pi"
   ]
  },
  {
   "cell_type": "code",
   "execution_count": null,
   "metadata": {},
   "outputs": [],
   "source": []
  }
 ],
 "metadata": {
  "kernelspec": {
   "display_name": "astro",
   "language": "python",
   "name": "python3"
  },
  "language_info": {
   "codemirror_mode": {
    "name": "ipython",
    "version": 3
   },
   "file_extension": ".py",
   "mimetype": "text/x-python",
   "name": "python",
   "nbconvert_exporter": "python",
   "pygments_lexer": "ipython3",
   "version": "3.8.16"
  },
  "orig_nbformat": 4
 },
 "nbformat": 4,
 "nbformat_minor": 2
}
