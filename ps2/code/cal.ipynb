{
 "cells": [
  {
   "cell_type": "code",
   "execution_count": 1,
   "metadata": {},
   "outputs": [],
   "source": [
    "import numpy as np\n",
    "import scipy\n",
    "from matplotlib import pyplot as plt"
   ]
  },
  {
   "cell_type": "code",
   "execution_count": 2,
   "metadata": {},
   "outputs": [],
   "source": [
    "# all the constants are in CGS units\n",
    "# physical constants\n",
    "sigma = 5.67051e-5 # Stefan-Boltzmann constant erg cm-2 K-4 s-1\n",
    "k = 1.380658e-16 # Boltzmann constant erg k-1\n",
    "m_u = 1.6605402e-24 # Atomic mass unit g\n",
    "G = 6.67259e-8 # Gravitational constant cm3 g-1 s-2\n",
    "h = 6.6260755e-27 # Planck constant erg s\n",
    "c = 2.99792458e10 # speed of light in a vacuum cm s-1\n",
    "\n",
    "e = 4.8032068e-10 # Electron charge esu\n",
    "m_e = 9.1093897e-28 # Mass of electron g\n",
    "# distance\n",
    "au = 1.496e13\n",
    "\n",
    "# earth\n",
    "r_earth = 6.378e8 # cm\n",
    "m_earth = 5.974e27 # g\n",
    "\n",
    "# sun\n",
    "m_sun = 1.99e33\n",
    "L_sun = 3.9e33 # Solar luminosity erg s-1"
   ]
  },
  {
   "cell_type": "code",
   "execution_count": 4,
   "metadata": {},
   "outputs": [
    {
     "data": {
      "text/plain": [
       "177.2851610148531"
      ]
     },
     "execution_count": 4,
     "metadata": {},
     "output_type": "execute_result"
    }
   ],
   "source": [
    "mu = 2.29\n",
    "M = m_sun\n",
    "alpha = np.sqrt(k / (mu*m_u*G*M))\n",
    "r = au\n",
    "beta = 3\n",
    "T = (L_sun * beta * alpha / (8 * np.pi * sigma * r**(3/2)))**(2/7)\n",
    "T"
   ]
  },
  {
   "cell_type": "code",
   "execution_count": 6,
   "metadata": {},
   "outputs": [],
   "source": [
    "K = (3/np.pi)**(2/3) * (h**2 / (20*m_e)) * (1/(2*m_u))**(5/3)"
   ]
  },
  {
   "cell_type": "code",
   "execution_count": 9,
   "metadata": {},
   "outputs": [
    {
     "data": {
      "text/plain": [
       "1.3927705799374677"
      ]
     },
     "execution_count": 9,
     "metadata": {},
     "output_type": "execute_result"
    }
   ],
   "source": [
    "N = 0.424\n",
    "R = (K*m_sun**(-1/3))/(N*G) / r_earth\n",
    "R"
   ]
  },
  {
   "cell_type": "code",
   "execution_count": 12,
   "metadata": {},
   "outputs": [
    {
     "name": "stdout",
     "output_type": "stream",
     "text": [
      "4.060e+06\n"
     ]
    }
   ],
   "source": [
    "R = (K*m_sun**(-1/3))/(N*G)\n",
    "rho_c = 5.99 * m_sun / (4*np.pi*R**3 / 3)\n",
    "print('{:.3e}'.format(rho_c))"
   ]
  },
  {
   "cell_type": "code",
   "execution_count": 15,
   "metadata": {},
   "outputs": [
    {
     "name": "stdout",
     "output_type": "stream",
     "text": [
      "7.778e+10\n"
     ]
    }
   ],
   "source": [
    "v = h / m_e * (rho_c / (2*m_u))**(1/3)\n",
    "print('{:.3e}'.format(v))"
   ]
  },
  {
   "cell_type": "code",
   "execution_count": 5,
   "metadata": {},
   "outputs": [
    {
     "data": {
      "text/plain": [
       "0.6107740189607488"
      ]
     },
     "execution_count": 5,
     "metadata": {},
     "output_type": "execute_result"
    }
   ],
   "source": [
    "m_earth / (4 * np.pi * 3 * (r_earth)**3)"
   ]
  },
  {
   "cell_type": "code",
   "execution_count": 3,
   "metadata": {},
   "outputs": [
    {
     "data": {
      "text/plain": [
       "1.319468914507713"
      ]
     },
     "execution_count": 3,
     "metadata": {},
     "output_type": "execute_result"
    }
   ],
   "source": [
    "0.42 * np.pi"
   ]
  },
  {
   "cell_type": "code",
   "execution_count": 12,
   "metadata": {},
   "outputs": [
    {
     "data": {
      "text/plain": [
       "22.841170199389623"
      ]
     },
     "execution_count": 12,
     "metadata": {},
     "output_type": "execute_result"
    }
   ],
   "source": [
    "z1 = 1\n",
    "z2 = 7\n",
    "nu = 14/15\n",
    "T = 1e7\n",
    "E = (8*np.pi**2*z1**2*z2**2*e**4*nu*m_u) / h**2\n",
    "nu = -2/3 + (np.pi**2 * E / (4*k*T))**(1/3)\n",
    "nu"
   ]
  },
  {
   "cell_type": "code",
   "execution_count": 18,
   "metadata": {},
   "outputs": [],
   "source": [
    "# calculate the radiation per wavelength\n",
    "def B_lambda(lambda1, lambda2, T):\n",
    "    lambda1 = lambda1*1e-7\n",
    "    lambda2 = lambda2*1e-7\n",
    "    f = lambda x:1 / (x**5 * (np.exp(h*c / (x*k*T))-1))\n",
    "    B = scipy.integrate.quad(f, lambda1, lambda2)\n",
    "    return B"
   ]
  },
  {
   "cell_type": "code",
   "execution_count": 24,
   "metadata": {},
   "outputs": [
    {
     "data": {
      "text/plain": [
       "737973667298383.4"
      ]
     },
     "execution_count": 24,
     "metadata": {},
     "output_type": "execute_result"
    }
   ],
   "source": [
    "B1 = B_lambda(400, 700, 6000)[0]\n",
    "B1"
   ]
  },
  {
   "cell_type": "code",
   "execution_count": 25,
   "metadata": {},
   "outputs": [
    {
     "name": "stderr",
     "output_type": "stream",
     "text": [
      "C:\\Users\\huqr\\AppData\\Local\\Temp\\ipykernel_17624\\168741950.py:5: RuntimeWarning: overflow encountered in exp\n",
      "  f = lambda x:1 / (x**5 * (np.exp(h*c / (x*k*T))-1))\n"
     ]
    },
    {
     "data": {
      "text/plain": [
       "1964035601986914.2"
      ]
     },
     "execution_count": 25,
     "metadata": {},
     "output_type": "execute_result"
    }
   ],
   "source": [
    "B2 = B_lambda(0, np.inf, 6000)[0]\n",
    "B2"
   ]
  },
  {
   "cell_type": "code",
   "execution_count": 42,
   "metadata": {},
   "outputs": [],
   "source": [
    "# t = np.arange(25, 105, 5)\n",
    "# sigma = 5.67e-8\n",
    "# eta_s = 1 - sigma*((t+273.15)**4 - 280**4)/(1e3)\n",
    "# eta_d = 1 - sigma*((t+273.15)**4 - 280**4)/(2e3)"
   ]
  },
  {
   "cell_type": "code",
   "execution_count": 54,
   "metadata": {},
   "outputs": [
    {
     "data": {
      "text/plain": [
       "0.7811676185931558"
      ]
     },
     "execution_count": 54,
     "metadata": {},
     "output_type": "execute_result"
    }
   ],
   "source": [
    "# ind = np.where(t==70)[0][0]\n",
    "# eta_d[ind]"
   ]
  },
  {
   "cell_type": "code",
   "execution_count": 56,
   "metadata": {},
   "outputs": [],
   "source": [
    "# T = 70\n",
    "# S = 1 - sigma*((T+273.15)**4 - 280**4)/(750)\n",
    "# D = 1 - sigma*((T+273.15)**4 - 280**4)/(750*2)"
   ]
  },
  {
   "cell_type": "code",
   "execution_count": 58,
   "metadata": {},
   "outputs": [
    {
     "data": {
      "image/png": "[encoded data removed]",
      "text/plain": [
       "<Figure size 640x480 with 1 Axes>"
      ]
     },
     "metadata": {},
     "output_type": "display_data"
    }
   ],
   "source": [
    "# plt.plot(t, eta_s, marker='o',  label=r'Single, $I_0=1000 \\ W m^{-2}$')\n",
    "# plt.plot(t, eta_d, marker='o', label=r'Double, $I_0=1000 \\ W m^{-2}$')\n",
    "# plt.scatter(T, S, label=r'Single, $I_0=750 \\ W m^{-2}$')\n",
    "# plt.scatter(T, D, label=r'Double, $I_0=750 \\ W m^{-2}$')\n",
    "# plt.legend()\n",
    "# plt.ylabel(r'$\\eta$')\n",
    "# plt.xlabel(f'$T_b \\ / \\ C^\\circ$')\n",
    "# plt.xticks(np.arange(25, 105, 5))\n",
    "# plt.yticks(np.arange(0.1, 1.1, 0.1))\n",
    "# plt.show()"
   ]
  }
 ],
 "metadata": {
  "kernelspec": {
   "display_name": "astro",
   "language": "python",
   "name": "python3"
  },
  "language_info": {
   "codemirror_mode": {
    "name": "ipython",
    "version": 3
   },
   "file_extension": ".py",
   "mimetype": "text/x-python",
   "name": "python",
   "nbconvert_exporter": "python",
   "pygments_lexer": "ipython3",
   "version": "3.8.16"
  },
  "orig_nbformat": 4
 },
 "nbformat": 4,
 "nbformat_minor": 2
}
