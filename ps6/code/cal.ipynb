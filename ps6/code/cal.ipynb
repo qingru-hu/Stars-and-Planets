{
 "cells": [
  {
   "cell_type": "code",
   "execution_count": 2,
   "metadata": {},
   "outputs": [],
   "source": [
    "import numpy as np\n",
    "import scipy\n",
    "from matplotlib import pyplot as plt"
   ]
  },
  {
   "cell_type": "code",
   "execution_count": 3,
   "metadata": {},
   "outputs": [],
   "source": [
    "# all the constants are in CGS units\n",
    "# physical constants\n",
    "sigma = 5.67051e-5 # Stefan-Boltzmann constant erg cm-2 K-4 s-1\n",
    "k = 1.380658e-16 # Boltzmann constant erg k-1\n",
    "m_u = 1.6605402e-24 # Atomic mass unit g\n",
    "G = 6.67259e-8 # Gravitational constant cm3 g-1 s-2\n",
    "h = 6.6260755e-27 # Planck constant erg s\n",
    "hbar = 1.05457266e-27\n",
    "c = 2.99792458e10 # speed of light in a vacuum cm s-1\n",
    "year = 3.14e7\n",
    "pc = 3.086e18\n",
    "a0 = 5.29177e-9 # cm\n",
    "eV = 1.6021772e-12 # erg\n",
    "\n",
    "e = 4.8032068e-10 # Electron charge esu\n",
    "m_e = 9.1093897e-28 # Mass of electron g\n",
    "# distance\n",
    "au = 1.496e13\n",
    "\n",
    "# earth\n",
    "r_earth = 6.378e8 # cm\n",
    "m_earth = 5.974e27 # g\n",
    "m_j_r = 317.89\n",
    "\n",
    "# sun\n",
    "m_sun = 1.99e33\n",
    "r_sun = 6.96e10 # cm\n",
    "L_sun = 3.9e33 # Solar luminosity erg s-1"
   ]
  },
  {
   "attachments": {},
   "cell_type": "markdown",
   "metadata": {},
   "source": [
    "# Exercise 3"
   ]
  },
  {
   "cell_type": "code",
   "execution_count": 27,
   "metadata": {},
   "outputs": [
    {
     "data": {
      "image/png": "[encoded data removed]",
      "text/plain": [
       "<Figure size 640x480 with 1 Axes>"
      ]
     },
     "metadata": {},
     "output_type": "display_data"
    }
   ],
   "source": [
    "thetas = np.linspace(0.05, 2*np.pi-0.05, 100)\n",
    "U = 3/2 * (4*np.sin(thetas/2)**2 + 1/np.sin(thetas/2))\n",
    "\n",
    "fig, ax = plt.subplots()\n",
    "ax.plot(thetas/np.pi*180, U)\n",
    "ax.axvline(x=180, ymin=0, ymax=1, linestyle='--', color = 'gray', label='L3')\n",
    "ax.axvline(x=60, ymin=0, ymax=1, linestyle='--', color = 'green', label='L4')\n",
    "ax.axvline(x=300, ymin=0, ymax=1, linestyle='--', color = 'orange', label='L5')\n",
    "ax.legend(loc=2)\n",
    "plt.ylabel('U/m')\n",
    "plt.xlabel(r'$\\theta/^{\\circ}$')\n",
    "plt.savefig('Ls.png', dpi=200)"
   ]
  },
  {
   "attachments": {},
   "cell_type": "markdown",
   "metadata": {},
   "source": [
    "# Exercise 4"
   ]
  },
  {
   "cell_type": "code",
   "execution_count": 12,
   "metadata": {},
   "outputs": [
    {
     "data": {
      "text/plain": [
       "4.4240428953207935"
      ]
     },
     "execution_count": 12,
     "metadata": {},
     "output_type": "execute_result"
    }
   ],
   "source": [
    "k = 0.3\n",
    "C = 0.33\n",
    "Q = 12\n",
    "ms = 7.3477e25\n",
    "mp = m_earth\n",
    "rp = r_earth\n",
    "d = 384401e5\n",
    "n = 2*np.pi/(28*24*60*60)\n",
    "omegap = 2*np.pi/(24*60*60)\n",
    "\n",
    "t_inverse = 3*k/(2*Q*C) * (ms**2)/((ms+mp)*mp) *(rp/d)**3 *(n)/(omegap) * n\n",
    "t_inverse**(-1)/(np.pi*1e7)/1e9"
   ]
  },
  {
   "cell_type": "code",
   "execution_count": 13,
   "metadata": {},
   "outputs": [
    {
     "data": {
      "text/plain": [
       "19.879574472202332"
      ]
     },
     "execution_count": 13,
     "metadata": {},
     "output_type": "execute_result"
    }
   ],
   "source": [
    "k = 0.3\n",
    "C = 0.33\n",
    "Q = 12\n",
    "ms = m_sun\n",
    "mp = m_earth\n",
    "rp = r_earth\n",
    "d = au\n",
    "n = 2*np.pi/(365*24*60*60)\n",
    "omegap = 2*np.pi/(24*60*60)\n",
    "\n",
    "t_inverse = 3*k/(2*Q*C) * (ms**2)/((ms+mp)*mp) *(rp/d)**3 *(n)/(omegap) * n\n",
    "t_inverse**(-1)/(np.pi*1e7)/1e9"
   ]
  },
  {
   "cell_type": "code",
   "execution_count": 15,
   "metadata": {},
   "outputs": [
    {
     "data": {
      "text/plain": [
       "7.043739433275191"
      ]
     },
     "execution_count": 15,
     "metadata": {},
     "output_type": "execute_result"
    }
   ],
   "source": [
    "k = 0.3\n",
    "C = 0.33\n",
    "Q = 12\n",
    "ms = 7.3477e25\n",
    "mp = m_earth\n",
    "rp = r_earth\n",
    "d = 384401e5\n",
    "n = 2*np.pi/(28*24*60*60)\n",
    "omegap = 2*np.pi/(24*60*60)\n",
    "\n",
    "t_orbit_inverse = (9*k)/(2*Q) * (ms)/(mp) * (rp/d)**5 * n\n",
    "t_orbit_inverse**(-1)/(np.pi*1e7)/1e9"
   ]
  },
  {
   "attachments": {},
   "cell_type": "markdown",
   "metadata": {},
   "source": [
    "# Exercise 7"
   ]
  },
  {
   "cell_type": "code",
   "execution_count": 4,
   "metadata": {},
   "outputs": [],
   "source": [
    "ta = 1e6*year\n",
    "te = 1e2*year\n",
    "j = 2\n",
    "q1 = 10*m_earth/m_sun\n",
    "n1 = 2*np.pi/year"
   ]
  },
  {
   "cell_type": "code",
   "execution_count": 14,
   "metadata": {},
   "outputs": [],
   "source": [
    "e = np.sqrt(te / (2*(j+1)*ta))"
   ]
  },
  {
   "cell_type": "code",
   "execution_count": 11,
   "metadata": {},
   "outputs": [
    {
     "data": {
      "text/plain": [
       "-187.49178234839903"
      ]
     },
     "execution_count": 11,
     "metadata": {},
     "output_type": "execute_result"
    }
   ],
   "source": [
    "np.arcsin(1/(-1.66*q1*n1*np.sqrt(2*3*te*ta)))/np.pi*180-180"
   ]
  },
  {
   "cell_type": "code",
   "execution_count": 13,
   "metadata": {},
   "outputs": [
    {
     "data": {
      "text/plain": [
       "-0.13075626882235614"
      ]
     },
     "execution_count": 13,
     "metadata": {},
     "output_type": "execute_result"
    }
   ],
   "source": [
    "phi = np.arcsin(1/(-1.66*q1*n1*np.sqrt(2*3*te*ta)))\n",
    "phi"
   ]
  },
  {
   "cell_type": "code",
   "execution_count": 15,
   "metadata": {},
   "outputs": [
    {
     "data": {
      "text/plain": [
       "0.00907682329030976"
      ]
     },
     "execution_count": 15,
     "metadata": {},
     "output_type": "execute_result"
    }
   ],
   "source": [
    "1.66*q1*3/2*np.cos(phi) / (e*2)"
   ]
  }
 ],
 "metadata": {
  "kernelspec": {
   "display_name": "astro",
   "language": "python",
   "name": "python3"
  },
  "language_info": {
   "codemirror_mode": {
    "name": "ipython",
    "version": 3
   },
   "file_extension": ".py",
   "mimetype": "text/x-python",
   "name": "python",
   "nbconvert_exporter": "python",
   "pygments_lexer": "ipython3",
   "version": "3.8.16"
  },
  "orig_nbformat": 4
 },
 "nbformat": 4,
 "nbformat_minor": 2
}
