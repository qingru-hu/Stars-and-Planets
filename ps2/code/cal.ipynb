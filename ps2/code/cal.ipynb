{
 "cells": [
  {
   "cell_type": "code",
   "execution_count": 1,
   "metadata": {},
   "outputs": [],
   "source": [
    "import numpy as np"
   ]
  },
  {
   "cell_type": "code",
   "execution_count": 2,
   "metadata": {},
   "outputs": [],
   "source": [
    "# all the constants are in CGS units\n",
    "# physical constants\n",
    "sigma = 5.67051e-5 # Stefan-Boltzmann constant erg cm-2 K-4 s-1\n",
    "k = 1.380658e-16 # Boltzmann constant erg k-1\n",
    "m_u = 1.6605402e-24 # Atomic mass unit g\n",
    "G = 6.67259e-8 # Gravitational constant cm3 g-1 s-2\n",
    "# distance\n",
    "au = 1.496e13\n",
    "\n",
    "# sun\n",
    "m_sun = 1.99e33\n",
    "L_sun = 3.9e33 # Solar luminosity erg s-1"
   ]
  },
  {
   "cell_type": "code",
   "execution_count": 3,
   "metadata": {},
   "outputs": [
    {
     "data": {
      "text/plain": [
       "76.64004559754427"
      ]
     },
     "execution_count": 3,
     "metadata": {},
     "output_type": "execute_result"
    }
   ],
   "source": [
    "mu = 2.29\n",
    "M = m_sun\n",
    "alpha = np.sqrt(k / (mu*m_u*G*M))\n",
    "r = au\n",
    "beta = 3\n",
    "T = (L_sun * beta**2 * alpha**2 / (8 * np.pi * sigma * r))**(1/3)\n",
    "T"
   ]
  }
 ],
 "metadata": {
  "kernelspec": {
   "display_name": "astro",
   "language": "python",
   "name": "python3"
  },
  "language_info": {
   "codemirror_mode": {
    "name": "ipython",
    "version": 3
   },
   "file_extension": ".py",
   "mimetype": "text/x-python",
   "name": "python",
   "nbconvert_exporter": "python",
   "pygments_lexer": "ipython3",
   "version": "3.8.16"
  },
  "orig_nbformat": 4
 },
 "nbformat": 4,
 "nbformat_minor": 2
}
