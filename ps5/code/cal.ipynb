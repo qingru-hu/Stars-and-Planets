{
 "cells": [
  {
   "cell_type": "code",
   "execution_count": 1,
   "metadata": {},
   "outputs": [],
   "source": [
    "import numpy as np\n",
    "import scipy\n",
    "from matplotlib import pyplot as plt"
   ]
  },
  {
   "cell_type": "code",
   "execution_count": 2,
   "metadata": {},
   "outputs": [],
   "source": [
    "# all the constants are in CGS units\n",
    "# physical constants\n",
    "sigma = 5.67051e-5 # Stefan-Boltzmann constant erg cm-2 K-4 s-1\n",
    "k = 1.380658e-16 # Boltzmann constant erg k-1\n",
    "m_u = 1.6605402e-24 # Atomic mass unit g\n",
    "G = 6.67259e-8 # Gravitational constant cm3 g-1 s-2\n",
    "h = 6.6260755e-27 # Planck constant erg s\n",
    "hbar = 1.05457266e-27\n",
    "c = 2.99792458e10 # speed of light in a vacuum cm s-1\n",
    "year = 3.14e7\n",
    "pc = 3.086e18\n",
    "a0 = 5.29177e-9 # cm\n",
    "eV = 1.6021772e-12 # erg\n",
    "\n",
    "e = 4.8032068e-10 # Electron charge esu\n",
    "m_e = 9.1093897e-28 # Mass of electron g\n",
    "# distance\n",
    "au = 1.496e13\n",
    "\n",
    "# earth\n",
    "r_earth = 6.378e8 # cm\n",
    "m_earth = 5.974e27 # g\n",
    "m_j_r = 317.89\n",
    "\n",
    "# sun\n",
    "m_sun = 1.99e33\n",
    "r_sun = 6.96e10 # cm\n",
    "L_sun = 3.9e33 # Solar luminosity erg s-1"
   ]
  },
  {
   "cell_type": "code",
   "execution_count": 5,
   "metadata": {},
   "outputs": [
    {
     "data": {
      "text/plain": [
       "0.062775"
      ]
     },
     "execution_count": 5,
     "metadata": {},
     "output_type": "execute_result"
    }
   ],
   "source": [
    "b_rsuma = (1.28*r_sun*(1+0.0942))/(0.1038*au)\n",
    "round(b_rsuma, 6)"
   ]
  },
  {
   "cell_type": "code",
   "execution_count": 6,
   "metadata": {},
   "outputs": [
    {
     "data": {
      "text/plain": [
       "0.041353"
      ]
     },
     "execution_count": 6,
     "metadata": {},
     "output_type": "execute_result"
    }
   ],
   "source": [
    "b_cosi = np.cos(87.63/180*np.pi)\n",
    "round(b_cosi, 6)"
   ]
  },
  {
   "cell_type": "code",
   "execution_count": 7,
   "metadata": {},
   "outputs": [
    {
     "data": {
      "text/plain": [
       "0.220445"
      ]
     },
     "execution_count": 7,
     "metadata": {},
     "output_type": "execute_result"
    }
   ],
   "source": [
    "b_f_c = np.sqrt(0.435)*np.cos(1.23)\n",
    "round(b_f_c, 6)"
   ]
  },
  {
   "cell_type": "code",
   "execution_count": 8,
   "metadata": {},
   "outputs": [
    {
     "data": {
      "text/plain": [
       "0.621614"
      ]
     },
     "execution_count": 8,
     "metadata": {},
     "output_type": "execute_result"
    }
   ],
   "source": [
    "b_f_s = np.sqrt(0.435)*np.sin(1.23)\n",
    "round(b_f_s, 6)"
   ]
  },
  {
   "attachments": {},
   "cell_type": "markdown",
   "metadata": {},
   "source": [
    "# Exercise 1"
   ]
  },
  {
   "cell_type": "code",
   "execution_count": 167,
   "metadata": {},
   "outputs": [
    {
     "name": "stdout",
     "output_type": "stream",
     "text": [
      "8.140576281268807e-09\n"
     ]
    }
   ],
   "source": [
    "T = 5780\n",
    "f = (np.exp(-13.6*eV/(k*T)))/(3e-7/m_u) * (2*np.pi*k*T*m_e/(h**2))**(3/2)\n",
    "print(f)"
   ]
  },
  {
   "cell_type": "code",
   "execution_count": 16,
   "metadata": {},
   "outputs": [
    {
     "data": {
      "text/plain": [
       "13284321.599999998"
      ]
     },
     "execution_count": 16,
     "metadata": {},
     "output_type": "execute_result"
    }
   ],
   "source": [
    "m_u/(0.5*1e-10)**3"
   ]
  },
  {
   "cell_type": "code",
   "execution_count": 19,
   "metadata": {},
   "outputs": [
    {
     "data": {
      "text/plain": [
       "2.258301244378185e-14"
      ]
     },
     "execution_count": 19,
     "metadata": {},
     "output_type": "execute_result"
    }
   ],
   "source": [
    "3e-7/m_u*(0.5*1e-10)**3"
   ]
  },
  {
   "cell_type": "code",
   "execution_count": 12,
   "metadata": {},
   "outputs": [
    {
     "data": {
      "text/plain": [
       "149661.20061411342"
      ]
     },
     "execution_count": 12,
     "metadata": {},
     "output_type": "execute_result"
    }
   ],
   "source": [
    "P = 3e-7/m_u *k* T\n",
    "P"
   ]
  },
  {
   "cell_type": "code",
   "execution_count": 70,
   "metadata": {},
   "outputs": [
    {
     "name": "stdout",
     "output_type": "stream",
     "text": [
      "0.000000e+00\n"
     ]
    }
   ],
   "source": [
    "T = 3500\n",
    "f = (np.pi*k*m_u*T/(h**2))**(3/2)*np.exp(-4.48*e/(k*T))\n",
    "print('{:.6e}'.format(f))"
   ]
  },
  {
   "cell_type": "code",
   "execution_count": 174,
   "metadata": {},
   "outputs": [
    {
     "name": "stdout",
     "output_type": "stream",
     "text": [
      "3790.0 -6.010599372241203e+17\n",
      "3791.0526315789475 -5.2863015094744474e+17\n",
      "3792.1052631578946 -4.559321532617892e+17\n",
      "3793.157894736842 -3.829651024323768e+17\n",
      "3794.2105263157896 -3.0972815460135526e+17\n",
      "3795.2631578947367 -2.362204637832704e+17\n",
      "3796.315789473684 -1.6244118186165248e+17\n",
      "3797.3684210526317 -8.838945858499584e+16\n",
      "3798.4210526315787 -1.4064441562810368e+16\n",
      "3799.4736842105262 6.053472373815501e+16\n",
      "3800.5263157894738 1.3540889399777894e+17\n",
      "3801.5789473684213 2.1055892804656947e+17\n",
      "3802.6315789473683 2.8598568686942208e+17\n",
      "3803.684210526316 3.616900336095355e+17\n",
      "3804.7368421052633 4.376728335723827e+17\n",
      "3805.7894736842104 5.139349542295429e+17\n",
      "3806.842105263158 5.904772652225167e+17\n",
      "3807.8947368421054 6.673006383669228e+17\n",
      "3808.9473684210525 7.444059476560589e+17\n",
      "3810.0 8.217940692649349e+17\n"
     ]
    }
   ],
   "source": [
    "xs = np.linspace(3790, 3810, 20)\n",
    "for x in xs:\n",
    "    a = (np.pi*k*m_u*x/(h**2))**(3/2)*np.exp(-4.48*eV/(k*x))-99*0.99*3e-7/m_u\n",
    "    print(x, a)"
   ]
  },
  {
   "cell_type": "code",
   "execution_count": 21,
   "metadata": {},
   "outputs": [],
   "source": [
    "from sympy import *"
   ]
  },
  {
   "cell_type": "code",
   "execution_count": 176,
   "metadata": {},
   "outputs": [
    {
     "ename": "KeyboardInterrupt",
     "evalue": "",
     "output_type": "error",
     "traceback": [
      "\u001b[1;31m---------------------------------------------------------------------------\u001b[0m",
      "\u001b[1;31mKeyboardInterrupt\u001b[0m                         Traceback (most recent call last)",
      "Cell \u001b[1;32mIn[176], line 2\u001b[0m\n\u001b[0;32m      1\u001b[0m x \u001b[39m=\u001b[39m symbols(\u001b[39m'\u001b[39m\u001b[39mx\u001b[39m\u001b[39m'\u001b[39m)\n\u001b[1;32m----> 2\u001b[0m solve((np\u001b[39m.\u001b[39;49mpi\u001b[39m*\u001b[39;49mk\u001b[39m*\u001b[39;49mm_u\u001b[39m*\u001b[39;49mx\u001b[39m/\u001b[39;49m(h\u001b[39m*\u001b[39;49m\u001b[39m*\u001b[39;49m\u001b[39m2\u001b[39;49m))\u001b[39m*\u001b[39;49m\u001b[39m*\u001b[39;49m(\u001b[39m3\u001b[39;49m\u001b[39m/\u001b[39;49m\u001b[39m2\u001b[39;49m)\u001b[39m*\u001b[39;49mexp(\u001b[39m-\u001b[39;49m\u001b[39m4.48\u001b[39;49m\u001b[39m*\u001b[39;49meV\u001b[39m/\u001b[39;49m(k\u001b[39m*\u001b[39;49mx))\u001b[39m-\u001b[39;49m\u001b[39m99\u001b[39;49m\u001b[39m*\u001b[39;49m\u001b[39m0.99\u001b[39;49m\u001b[39m*\u001b[39;49m\u001b[39m3e-7\u001b[39;49m\u001b[39m/\u001b[39;49mm_u, x)\n",
      "File \u001b[1;32mc:\\Users\\huqr\\anaconda3\\envs\\astro\\lib\\site-packages\\sympy\\solvers\\solvers.py:1112\u001b[0m, in \u001b[0;36msolve\u001b[1;34m(f, *symbols, **flags)\u001b[0m\n\u001b[0;32m   1108\u001b[0m \u001b[39m#\u001b[39;00m\n\u001b[0;32m   1109\u001b[0m \u001b[39m# try to get a solution\u001b[39;00m\n\u001b[0;32m   1110\u001b[0m \u001b[39m###########################################################################\u001b[39;00m\n\u001b[0;32m   1111\u001b[0m \u001b[39mif\u001b[39;00m bare_f:\n\u001b[1;32m-> 1112\u001b[0m     solution \u001b[39m=\u001b[39m _solve(f[\u001b[39m0\u001b[39;49m], \u001b[39m*\u001b[39;49msymbols, \u001b[39m*\u001b[39;49m\u001b[39m*\u001b[39;49mflags)\n\u001b[0;32m   1113\u001b[0m \u001b[39melse\u001b[39;00m:\n\u001b[0;32m   1114\u001b[0m     solution \u001b[39m=\u001b[39m _solve_system(f, symbols, \u001b[39m*\u001b[39m\u001b[39m*\u001b[39mflags)\n",
      "File \u001b[1;32mc:\\Users\\huqr\\anaconda3\\envs\\astro\\lib\\site-packages\\sympy\\solvers\\solvers.py:1510\u001b[0m, in \u001b[0;36m_solve\u001b[1;34m(f, *symbols, **flags)\u001b[0m\n\u001b[0;32m   1508\u001b[0m \u001b[39mtry\u001b[39;00m:\n\u001b[0;32m   1509\u001b[0m     \u001b[39mif\u001b[39;00m poly \u001b[39mis\u001b[39;00m \u001b[39mNone\u001b[39;00m:\n\u001b[1;32m-> 1510\u001b[0m         poly \u001b[39m=\u001b[39m Poly(f_num)\n\u001b[0;32m   1511\u001b[0m     \u001b[39mif\u001b[39;00m poly \u001b[39mis\u001b[39;00m \u001b[39mNone\u001b[39;00m:\n\u001b[0;32m   1512\u001b[0m         \u001b[39mraise\u001b[39;00m \u001b[39mValueError\u001b[39;00m(\u001b[39m'\u001b[39m\u001b[39mcould not convert \u001b[39m\u001b[39m%s\u001b[39;00m\u001b[39m to Poly\u001b[39m\u001b[39m'\u001b[39m \u001b[39m%\u001b[39m f_num)\n",
      "File \u001b[1;32mc:\\Users\\huqr\\anaconda3\\envs\\astro\\lib\\site-packages\\sympy\\polys\\polytools.py:182\u001b[0m, in \u001b[0;36mPoly.__new__\u001b[1;34m(cls, rep, *gens, **args)\u001b[0m\n\u001b[0;32m    180\u001b[0m     \u001b[39mreturn\u001b[39;00m \u001b[39mcls\u001b[39m\u001b[39m.\u001b[39m_from_poly(rep, opt)\n\u001b[0;32m    181\u001b[0m \u001b[39melse\u001b[39;00m:\n\u001b[1;32m--> 182\u001b[0m     \u001b[39mreturn\u001b[39;00m \u001b[39mcls\u001b[39;49m\u001b[39m.\u001b[39;49m_from_expr(rep, opt)\n",
      "File \u001b[1;32mc:\\Users\\huqr\\anaconda3\\envs\\astro\\lib\\site-packages\\sympy\\polys\\polytools.py:312\u001b[0m, in \u001b[0;36mPoly._from_expr\u001b[1;34m(cls, rep, opt)\u001b[0m\n\u001b[0;32m    310\u001b[0m \u001b[39m\"\"\"Construct a polynomial from an expression. \"\"\"\u001b[39;00m\n\u001b[0;32m    311\u001b[0m rep, opt \u001b[39m=\u001b[39m _dict_from_expr(rep, opt)\n\u001b[1;32m--> 312\u001b[0m \u001b[39mreturn\u001b[39;00m \u001b[39mcls\u001b[39;49m\u001b[39m.\u001b[39;49m_from_dict(rep, opt)\n",
      "File \u001b[1;32mc:\\Users\\huqr\\anaconda3\\envs\\astro\\lib\\site-packages\\sympy\\polys\\polytools.py:261\u001b[0m, in \u001b[0;36mPoly._from_dict\u001b[1;34m(cls, rep, opt)\u001b[0m\n\u001b[0;32m    258\u001b[0m     \u001b[39mfor\u001b[39;00m monom, coeff \u001b[39min\u001b[39;00m rep\u001b[39m.\u001b[39mitems():\n\u001b[0;32m    259\u001b[0m         rep[monom] \u001b[39m=\u001b[39m domain\u001b[39m.\u001b[39mconvert(coeff)\n\u001b[1;32m--> 261\u001b[0m \u001b[39mreturn\u001b[39;00m \u001b[39mcls\u001b[39m\u001b[39m.\u001b[39mnew(DMP\u001b[39m.\u001b[39;49mfrom_dict(rep, level, domain), \u001b[39m*\u001b[39mgens)\n",
      "File \u001b[1;32mc:\\Users\\huqr\\anaconda3\\envs\\astro\\lib\\site-packages\\sympy\\polys\\polyclasses.py:279\u001b[0m, in \u001b[0;36mDMP.from_dict\u001b[1;34m(cls, rep, lev, dom)\u001b[0m\n\u001b[0;32m    276\u001b[0m \u001b[39m@classmethod\u001b[39m\n\u001b[0;32m    277\u001b[0m \u001b[39mdef\u001b[39;00m \u001b[39mfrom_dict\u001b[39m(\u001b[39mcls\u001b[39m, rep, lev, dom):\n\u001b[0;32m    278\u001b[0m     \u001b[39m\"\"\"Construct and instance of ``cls`` from a ``dict`` representation. \"\"\"\u001b[39;00m\n\u001b[1;32m--> 279\u001b[0m     \u001b[39mreturn\u001b[39;00m \u001b[39mcls\u001b[39m(dmp_from_dict(rep, lev, dom), dom, lev)\n",
      "File \u001b[1;32mc:\\Users\\huqr\\anaconda3\\envs\\astro\\lib\\site-packages\\sympy\\polys\\densebasic.py:1009\u001b[0m, in \u001b[0;36mdmp_from_dict\u001b[1;34m(f, u, K)\u001b[0m\n\u001b[0;32m   1006\u001b[0m n, v, h \u001b[39m=\u001b[39m \u001b[39mmax\u001b[39m(coeffs\u001b[39m.\u001b[39mkeys()), u \u001b[39m-\u001b[39m \u001b[39m1\u001b[39m, []\n\u001b[0;32m   1008\u001b[0m \u001b[39mfor\u001b[39;00m k \u001b[39min\u001b[39;00m \u001b[39mrange\u001b[39m(n, \u001b[39m-\u001b[39m\u001b[39m1\u001b[39m, \u001b[39m-\u001b[39m\u001b[39m1\u001b[39m):\n\u001b[1;32m-> 1009\u001b[0m     coeff \u001b[39m=\u001b[39m coeffs\u001b[39m.\u001b[39;49mget(k)\n\u001b[0;32m   1011\u001b[0m     \u001b[39mif\u001b[39;00m coeff \u001b[39mis\u001b[39;00m \u001b[39mnot\u001b[39;00m \u001b[39mNone\u001b[39;00m:\n\u001b[0;32m   1012\u001b[0m         h\u001b[39m.\u001b[39mappend(dmp_from_dict(coeff, v, K))\n",
      "\u001b[1;31mKeyboardInterrupt\u001b[0m: "
     ]
    }
   ],
   "source": [
    "x = symbols('x')\n",
    "solve((np.pi*k*m_u*x/(h**2))**(3/2)*exp(-4.48*eV/(k*x))-99*0.99*3e-7/m_u, x)"
   ]
  },
  {
   "cell_type": "code",
   "execution_count": 27,
   "metadata": {},
   "outputs": [
    {
     "name": "stderr",
     "output_type": "stream",
     "text": [
      "C:\\Users\\huqr\\AppData\\Local\\Temp\\ipykernel_21168\\1673183042.py:2: RuntimeWarning: divide by zero encountered in divide\n",
      "  a = fsolve(lambda x: (np.pi*k*m_u*x/(h**2))**(3/2)*np.exp(-4.48*e/(k*x))-99*99, 0)\n"
     ]
    },
    {
     "data": {
      "text/plain": [
       "array([0.])"
      ]
     },
     "execution_count": 27,
     "metadata": {},
     "output_type": "execute_result"
    }
   ],
   "source": [
    "from scipy.optimize import fsolve\n",
    "a = fsolve(lambda x: (np.pi*k*m_u*x/(h**2))**(3/2)*np.exp(-4.48*e/(k*x))-99*99, 0)\n",
    "a"
   ]
  },
  {
   "attachments": {},
   "cell_type": "markdown",
   "metadata": {},
   "source": [
    "# Exercise2"
   ]
  },
  {
   "cell_type": "code",
   "execution_count": 97,
   "metadata": {},
   "outputs": [
    {
     "data": {
      "text/plain": [
       "2.7248872405298883"
      ]
     },
     "execution_count": 97,
     "metadata": {},
     "output_type": "execute_result"
    }
   ],
   "source": [
    "B = 7/384 * hbar**2/(m_u*a0**2) * 1e-7 /1.6e-19 *1e4\n",
    "B"
   ]
  },
  {
   "cell_type": "code",
   "execution_count": 100,
   "metadata": {},
   "outputs": [
    {
     "data": {
      "text/plain": [
       "2.72118438887273"
      ]
     },
     "execution_count": 100,
     "metadata": {},
     "output_type": "execute_result"
    }
   ],
   "source": [
    "eV = 1.6021772e-12 # erg\n",
    "B = 7/384 * hbar**2/(m_u*a0**2) /eV *1e4\n",
    "B"
   ]
  },
  {
   "cell_type": "code",
   "execution_count": 115,
   "metadata": {},
   "outputs": [
    {
     "data": {
      "text/plain": [
       "3.1577838862685916"
      ]
     },
     "execution_count": 115,
     "metadata": {},
     "output_type": "execute_result"
    }
   ],
   "source": [
    "B = 7/384 * hbar**2/(m_u*a0**2) / k\n",
    "B"
   ]
  },
  {
   "cell_type": "code",
   "execution_count": 101,
   "metadata": {},
   "outputs": [
    {
     "data": {
      "text/plain": [
       "array([ 1,  2,  3,  4,  5,  6,  7,  8,  9, 10])"
      ]
     },
     "execution_count": 101,
     "metadata": {},
     "output_type": "execute_result"
    }
   ],
   "source": [
    "J = np.arange(1, 11, 1)\n",
    "J"
   ]
  },
  {
   "cell_type": "code",
   "execution_count": 107,
   "metadata": {},
   "outputs": [
    {
     "data": {
      "text/plain": [
       "array([8.71963917e-16, 2.61589175e-15, 5.23178350e-15, 8.71963917e-15,\n",
       "       1.30794588e-14, 1.83112423e-14, 2.44149897e-14, 3.13907010e-14,\n",
       "       3.92383763e-14, 4.79580154e-14])"
      ]
     },
     "execution_count": 107,
     "metadata": {},
     "output_type": "execute_result"
    }
   ],
   "source": [
    "B = 7/384 * hbar**2/(m_u*a0**2)\n",
    "Eu = B*J*(J+1)\n",
    "Eu"
   ]
  },
  {
   "cell_type": "code",
   "execution_count": 153,
   "metadata": {},
   "outputs": [
    {
     "data": {
      "image/png": "[encoded data removed]",
      "text/plain": [
       "<Figure size 800x600 with 1 Axes>"
      ]
     },
     "metadata": {},
     "output_type": "display_data"
    }
   ],
   "source": [
    "Ts = [10, 20, 30]\n",
    "fig = plt.figure(figsize=(8, 6))\n",
    "ax = fig.add_subplot(111)\n",
    "for T in Ts:\n",
    "    Z = 0.36*(T + 0.88)\n",
    "    y = -Eu/(k*T) - np.log(Z)\n",
    "    ax.scatter(Eu/(k), y, marker='o')\n",
    "    ax.plot(Eu/(k), y, label='T={:.0f}K'.format(T), linestyle='-')\n",
    "ax.vlines(Eu[0]/(k), -40, 0, linestyle='--', color='gray')\n",
    "ax.vlines(Eu[1]/(k), -40, 0, linestyle='--', color='gray')\n",
    "ax.text(Eu[0]/(k), -30, r'$J_u=1$')\n",
    "ax.text(Eu[1]/(k), -25, r'$J_u=2$')\n",
    "ax.vlines(Eu[6]/(k), -40, 0, linestyle='--', color='gray')\n",
    "ax.vlines(Eu[7]/(k), -40, 0, linestyle='--', color='gray')\n",
    "ax.text(Eu[6]/(k), -35, r'$J_u=7$')\n",
    "ax.text(Eu[7]/(k), -30, r'$J_u=8$')\n",
    "ax.legend()\n",
    "ax.set_ylim(-40, 0)\n",
    "ax.set_xlabel('Eu/K')\n",
    "ax.set_ylabel(r'$\\log (Nu/Ngu)$')\n",
    "plt.savefig('rotation.png', dpi=200)\n",
    "plt.show()"
   ]
  },
  {
   "attachments": {},
   "cell_type": "markdown",
   "metadata": {},
   "source": [
    "# Exercise3"
   ]
  },
  {
   "cell_type": "code",
   "execution_count": 155,
   "metadata": {},
   "outputs": [
    {
     "data": {
      "text/plain": [
       "210.4239581153292"
      ]
     },
     "execution_count": 155,
     "metadata": {},
     "output_type": "execute_result"
    }
   ],
   "source": [
    "5780*(1-0.25)**(1/4)*(r_sun/(2*1.52*au))**(1/2)"
   ]
  },
  {
   "cell_type": "code",
   "execution_count": 160,
   "metadata": {},
   "outputs": [
    {
     "data": {
      "text/plain": [
       "1046429.1029904078"
      ]
     },
     "execution_count": 160,
     "metadata": {},
     "output_type": "execute_result"
    }
   ],
   "source": [
    "H = (k*210.42*(3.397e8)**2)/(44*m_u*G*0.11*m_earth)\n",
    "H"
   ]
  },
  {
   "cell_type": "code",
   "execution_count": 159,
   "metadata": {},
   "outputs": [],
   "source": [
    "rho = (6363*44*m_u)/(k*210.42)"
   ]
  },
  {
   "cell_type": "code",
   "execution_count": 162,
   "metadata": {},
   "outputs": [
    {
     "data": {
      "text/plain": [
       "2.42829603676294e+19"
      ]
     },
     "execution_count": 162,
     "metadata": {},
     "output_type": "execute_result"
    }
   ],
   "source": [
    "4*np.pi*(3.397e8)**2*H*rho"
   ]
  },
  {
   "cell_type": "code",
   "execution_count": 163,
   "metadata": {},
   "outputs": [
    {
     "data": {
      "text/plain": [
       "227.51884503150876"
      ]
     },
     "execution_count": 163,
     "metadata": {},
     "output_type": "execute_result"
    }
   ],
   "source": [
    "5780*(1-0.77)**(1/4)*(r_sun/(2*0.72*au))**(1/2)"
   ]
  },
  {
   "cell_type": "code",
   "execution_count": 166,
   "metadata": {},
   "outputs": [
    {
     "data": {
      "text/plain": [
       "6.4571024539110855"
      ]
     },
     "execution_count": 166,
     "metadata": {},
     "output_type": "execute_result"
    }
   ],
   "source": [
    "r_sun/2 * (110.1*0.23)**0.5 * (5780/246.1)**2 / au"
   ]
  }
 ],
 "metadata": {
  "kernelspec": {
   "display_name": "astro",
   "language": "python",
   "name": "python3"
  },
  "language_info": {
   "codemirror_mode": {
    "name": "ipython",
    "version": 3
   },
   "file_extension": ".py",
   "mimetype": "text/x-python",
   "name": "python",
   "nbconvert_exporter": "python",
   "pygments_lexer": "ipython3",
   "version": "3.8.16"
  },
  "orig_nbformat": 4
 },
 "nbformat": 4,
 "nbformat_minor": 2
}
